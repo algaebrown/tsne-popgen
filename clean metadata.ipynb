{
 "cells": [
  {
   "cell_type": "code",
   "execution_count": 2,
   "metadata": {},
   "outputs": [],
   "source": [
    "import pandas as pd\n",
    "from os import path\n",
    "data_dir = '/home/hsher/data'\n",
    "sample_info = pd.read_csv(path.join(data_dir, 'ALL.metadata.pop'), header = 0, sep = '\\t', index_col = 0)"
   ]
  },
  {
   "cell_type": "code",
   "execution_count": 3,
   "metadata": {},
   "outputs": [],
   "source": [
    "sample_info.loc[sample_info.index.str.contains('HGDP'), 'batch'] = 'HGDP'\n",
    "sample_info.loc[~sample_info.index.str.contains('HGDP'), 'batch'] = '1000 genome'"
   ]
  },
  {
   "cell_type": "code",
   "execution_count": 4,
   "metadata": {},
   "outputs": [
    {
     "data": {
      "text/html": [
       "<div>\n",
       "<style scoped>\n",
       "    .dataframe tbody tr th:only-of-type {\n",
       "        vertical-align: middle;\n",
       "    }\n",
       "\n",
       "    .dataframe tbody tr th {\n",
       "        vertical-align: top;\n",
       "    }\n",
       "\n",
       "    .dataframe thead th {\n",
       "        text-align: right;\n",
       "    }\n",
       "</style>\n",
       "<table border=\"1\" class=\"dataframe\">\n",
       "  <thead>\n",
       "    <tr style=\"text-align: right;\">\n",
       "      <th></th>\n",
       "      <th>pop</th>\n",
       "      <th>super_pop</th>\n",
       "      <th>gender</th>\n",
       "      <th>Unnamed: 4</th>\n",
       "      <th>Unnamed: 5</th>\n",
       "      <th>batch</th>\n",
       "    </tr>\n",
       "    <tr>\n",
       "      <th>sample</th>\n",
       "      <th></th>\n",
       "      <th></th>\n",
       "      <th></th>\n",
       "      <th></th>\n",
       "      <th></th>\n",
       "      <th></th>\n",
       "    </tr>\n",
       "  </thead>\n",
       "  <tbody>\n",
       "    <tr>\n",
       "      <th>HG00096</th>\n",
       "      <td>GBR</td>\n",
       "      <td>EUR</td>\n",
       "      <td>male</td>\n",
       "      <td>NaN</td>\n",
       "      <td>NaN</td>\n",
       "      <td>1000 genome</td>\n",
       "    </tr>\n",
       "    <tr>\n",
       "      <th>HG00097</th>\n",
       "      <td>GBR</td>\n",
       "      <td>EUR</td>\n",
       "      <td>female</td>\n",
       "      <td>NaN</td>\n",
       "      <td>NaN</td>\n",
       "      <td>1000 genome</td>\n",
       "    </tr>\n",
       "    <tr>\n",
       "      <th>HG00099</th>\n",
       "      <td>GBR</td>\n",
       "      <td>EUR</td>\n",
       "      <td>female</td>\n",
       "      <td>NaN</td>\n",
       "      <td>NaN</td>\n",
       "      <td>1000 genome</td>\n",
       "    </tr>\n",
       "    <tr>\n",
       "      <th>HG00100</th>\n",
       "      <td>GBR</td>\n",
       "      <td>EUR</td>\n",
       "      <td>female</td>\n",
       "      <td>NaN</td>\n",
       "      <td>NaN</td>\n",
       "      <td>1000 genome</td>\n",
       "    </tr>\n",
       "    <tr>\n",
       "      <th>HG00101</th>\n",
       "      <td>GBR</td>\n",
       "      <td>EUR</td>\n",
       "      <td>male</td>\n",
       "      <td>NaN</td>\n",
       "      <td>NaN</td>\n",
       "      <td>1000 genome</td>\n",
       "    </tr>\n",
       "  </tbody>\n",
       "</table>\n",
       "</div>"
      ],
      "text/plain": [
       "         pop super_pop  gender  Unnamed: 4  Unnamed: 5        batch\n",
       "sample                                                             \n",
       "HG00096  GBR       EUR    male         NaN         NaN  1000 genome\n",
       "HG00097  GBR       EUR  female         NaN         NaN  1000 genome\n",
       "HG00099  GBR       EUR  female         NaN         NaN  1000 genome\n",
       "HG00100  GBR       EUR  female         NaN         NaN  1000 genome\n",
       "HG00101  GBR       EUR    male         NaN         NaN  1000 genome"
      ]
     },
     "execution_count": 4,
     "metadata": {},
     "output_type": "execute_result"
    }
   ],
   "source": [
    "sample_info.head()"
   ]
  },
  {
   "cell_type": "code",
   "execution_count": 7,
   "metadata": {},
   "outputs": [
    {
     "data": {
      "text/plain": [
       "array(['GBR', 'FIN', 'CHS', 'PUR', 'CDX', 'CLM', 'IBS', 'PEL', 'PJL',\n",
       "       'KHV', 'ACB', 'GWD', 'ESN', 'BEB', 'MSL', 'STU', 'ITU', 'CEU',\n",
       "       'YRI', 'CHB', 'JPT', 'LWK', 'ASW', 'MXL', 'TSI', 'GIH', 'Brahui',\n",
       "       'Balochi', 'Hazara', 'Makrani', 'Sindhi', 'Pathan', 'Kalash',\n",
       "       'Burusho', 'Mbuti', 'Biaka', 'Bougainville', 'French',\n",
       "       'PapuanSepik', 'PapuanHighlands', 'Druze', 'Bedouin', 'Sardinian',\n",
       "       'Palestinian', 'Colombian', 'Cambodian', 'Japanese', 'Han',\n",
       "       'Orcadian', 'Surui', 'Maya', 'Russian', 'Mandenka', 'Yoruba',\n",
       "       'Yakut', 'San', 'BantuSouthAfrica', 'Karitiana', 'Pima', 'Tujia',\n",
       "       'BergamoItalian', 'Tuscan', 'Yi', 'Miao', 'Oroqen', 'Daur',\n",
       "       'Mongolian', 'Hezhen', 'Xibo', 'Mozabite', 'NorthernHan', 'Uygur',\n",
       "       'Dai', 'Lahu', 'She', 'Naxi', 'Tu', 'Basque', 'Adygei',\n",
       "       'BantuKenya'], dtype=object)"
      ]
     },
     "execution_count": 7,
     "metadata": {},
     "output_type": "execute_result"
    }
   ],
   "source": [
    "sample_info['pop'].unique()"
   ]
  },
  {
   "cell_type": "code",
   "execution_count": 13,
   "metadata": {},
   "outputs": [],
   "source": [
    "pop_dict = {'Japanese':'JPT',\n",
    "           'Dai': 'CDX',\n",
    "           'Han': 'CHB',\n",
    "           'NorthernHan': 'CHB',\n",
    "           'She':'CHS',\n",
    "           'French': 'CEU',\n",
    "           'Tuscan':'TSI',\n",
    "           'Yoruba': 'YRI',\n",
    "           'BantuSouthAfrica':'LWK',\n",
    "           'Colombian':'CLM'}\n",
    "\n",
    "#'Brahui',\n",
    "#       'Balochi', 'Hazara', 'Makrani', 'Sindhi', 'Pathan', 'Kalash',\n",
    "#       'Burusho', 'Mbuti', 'Biaka', 'Bougainville', \n",
    "#       'PapuanSepik', 'PapuanHighlands', 'Druze', 'Bedouin', 'Sardinian',\n",
    "#       'Palestinian', ', 'Cambodian', , ,\n",
    "#       'Orcadian', 'Surui', 'Maya', 'Russian', 'Mandenka', 'Yoruba',\n",
    "#       'Yakut', 'San', , 'Karitiana', 'Pima', 'Tujia',\n",
    "#       'BergamoItalian', , 'Yi', 'Miao', 'Oroqen', 'Daur',\n",
    "#       'Mongolian', 'Hezhen', 'Xibo', 'Mozabite', 'NorthernHan', 'Uygur',\n",
    "#       , 'Lahu', , 'Naxi', 'Tu', 'Basque', 'Adygei',\n",
    "#       'BantuKenya'"
   ]
  },
  {
   "cell_type": "code",
   "execution_count": 14,
   "metadata": {},
   "outputs": [],
   "source": [
    "super_pop_dict = {'SAS':'CENTRAL_SOUTH_ASIA', \n",
    "                  'AFRICA':'AFR',\n",
    "                  'EUROPE':'EUR', \n",
    "                  'AMERICA': 'AMR', \n",
    "                  'EAST_ASIA':'EAS'}\n",
    "\n",
    "# keep OCEANIA, 'MIDDLE_EAST'\n",
    "\n",
    "# keep population dict, it is very hard to map"
   ]
  },
  {
   "cell_type": "code",
   "execution_count": 17,
   "metadata": {},
   "outputs": [],
   "source": [
    "gender_dict = {'female': 'F','male':'M'}"
   ]
  },
  {
   "cell_type": "code",
   "execution_count": 18,
   "metadata": {},
   "outputs": [],
   "source": [
    "sample_info = sample_info.replace(super_pop_dict)\n",
    "sample_info = sample_info.replace(pop_dict)\n",
    "sample_info = sample_info.replace(gender_dict)"
   ]
  },
  {
   "cell_type": "code",
   "execution_count": 22,
   "metadata": {},
   "outputs": [],
   "source": [
    "sample_info.drop(columns = ['Unnamed: 4', 'Unnamed: 5'], inplace = True)"
   ]
  },
  {
   "cell_type": "code",
   "execution_count": 23,
   "metadata": {},
   "outputs": [],
   "source": [
    "sample_info.to_pickle(path.join(data_dir, 'sample_info.pickle'))"
   ]
  },
  {
   "cell_type": "code",
   "execution_count": null,
   "metadata": {},
   "outputs": [],
   "source": []
  }
 ],
 "metadata": {
  "kernelspec": {
   "display_name": "Python 3",
   "language": "python",
   "name": "python3"
  },
  "language_info": {
   "codemirror_mode": {
    "name": "ipython",
    "version": 3
   },
   "file_extension": ".py",
   "mimetype": "text/x-python",
   "name": "python",
   "nbconvert_exporter": "python",
   "pygments_lexer": "ipython3",
   "version": "3.6.7"
  }
 },
 "nbformat": 4,
 "nbformat_minor": 2
}
