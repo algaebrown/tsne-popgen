{
 "cells": [
  {
   "cell_type": "code",
   "execution_count": 4,
   "metadata": {},
   "outputs": [],
   "source": [
    "import anndata\n",
    "from os import path\n",
    "data_dir = '/cellar/users/hsher/Data/popgen'\n",
    "\n",
    "adata = anndata.read_h5ad(path.join(data_dir,'par_knn_final.h5ad'))"
   ]
  },
  {
   "cell_type": "code",
   "execution_count": 6,
   "metadata": {},
   "outputs": [
    {
     "data": {
      "text/plain": [
       "[Shang-Fu Chen, Sheng-Yong Niu, Mandenka, Biaka, BantuKenya, ..., STU, ITU, ASW, MXL, GIH]\n",
       "Length: 72\n",
       "Categories (72, object): [Shang-Fu Chen, Sheng-Yong Niu, Mandenka, Biaka, ..., ITU, ASW, MXL, GIH]"
      ]
     },
     "execution_count": 6,
     "metadata": {},
     "output_type": "execute_result"
    }
   ],
   "source": [
    "adata.obs['pop'].unique()"
   ]
  },
  {
   "cell_type": "code",
   "execution_count": 7,
   "metadata": {},
   "outputs": [
    {
     "data": {
      "text/html": [
       "<div>\n",
       "<style scoped>\n",
       "    .dataframe tbody tr th:only-of-type {\n",
       "        vertical-align: middle;\n",
       "    }\n",
       "\n",
       "    .dataframe tbody tr th {\n",
       "        vertical-align: top;\n",
       "    }\n",
       "\n",
       "    .dataframe thead th {\n",
       "        text-align: right;\n",
       "    }\n",
       "</style>\n",
       "<table border=\"1\" class=\"dataframe\">\n",
       "  <thead>\n",
       "    <tr style=\"text-align: right;\">\n",
       "      <th></th>\n",
       "      <th>pop</th>\n",
       "      <th>super_pop</th>\n",
       "      <th>gender</th>\n",
       "      <th>batch</th>\n",
       "    </tr>\n",
       "  </thead>\n",
       "  <tbody>\n",
       "    <tr>\n",
       "      <th>sfc_23andme</th>\n",
       "      <td>Shang-Fu Chen</td>\n",
       "      <td>Shang-Fu Chen</td>\n",
       "      <td>M</td>\n",
       "      <td>23andme</td>\n",
       "    </tr>\n",
       "    <tr>\n",
       "      <th>syn_23andme</th>\n",
       "      <td>Sheng-Yong Niu</td>\n",
       "      <td>Sheng-Yong Niu</td>\n",
       "      <td>M</td>\n",
       "      <td>23andme</td>\n",
       "    </tr>\n",
       "    <tr>\n",
       "      <th>HGDP01201</th>\n",
       "      <td>Mandenka</td>\n",
       "      <td>AFR</td>\n",
       "      <td>F</td>\n",
       "      <td>HGDP</td>\n",
       "    </tr>\n",
       "    <tr>\n",
       "      <th>HGDP00479</th>\n",
       "      <td>Biaka</td>\n",
       "      <td>AFR</td>\n",
       "      <td>M</td>\n",
       "      <td>HGDP</td>\n",
       "    </tr>\n",
       "    <tr>\n",
       "      <th>HGDP01408</th>\n",
       "      <td>BantuKenya</td>\n",
       "      <td>AFR</td>\n",
       "      <td>M</td>\n",
       "      <td>HGDP</td>\n",
       "    </tr>\n",
       "    <tr>\n",
       "      <th>...</th>\n",
       "      <td>...</td>\n",
       "      <td>...</td>\n",
       "      <td>...</td>\n",
       "      <td>...</td>\n",
       "    </tr>\n",
       "    <tr>\n",
       "      <th>NA21137</th>\n",
       "      <td>GIH</td>\n",
       "      <td>CENTRAL_SOUTH_ASIA</td>\n",
       "      <td>F</td>\n",
       "      <td>1000 genome</td>\n",
       "    </tr>\n",
       "    <tr>\n",
       "      <th>NA21141</th>\n",
       "      <td>GIH</td>\n",
       "      <td>CENTRAL_SOUTH_ASIA</td>\n",
       "      <td>F</td>\n",
       "      <td>1000 genome</td>\n",
       "    </tr>\n",
       "    <tr>\n",
       "      <th>NA21142</th>\n",
       "      <td>GIH</td>\n",
       "      <td>CENTRAL_SOUTH_ASIA</td>\n",
       "      <td>F</td>\n",
       "      <td>1000 genome</td>\n",
       "    </tr>\n",
       "    <tr>\n",
       "      <th>NA21143</th>\n",
       "      <td>GIH</td>\n",
       "      <td>CENTRAL_SOUTH_ASIA</td>\n",
       "      <td>F</td>\n",
       "      <td>1000 genome</td>\n",
       "    </tr>\n",
       "    <tr>\n",
       "      <th>NA21144</th>\n",
       "      <td>GIH</td>\n",
       "      <td>CENTRAL_SOUTH_ASIA</td>\n",
       "      <td>F</td>\n",
       "      <td>1000 genome</td>\n",
       "    </tr>\n",
       "  </tbody>\n",
       "</table>\n",
       "<p>3435 rows × 4 columns</p>\n",
       "</div>"
      ],
      "text/plain": [
       "                        pop           super_pop gender        batch\n",
       "sfc_23andme   Shang-Fu Chen       Shang-Fu Chen      M      23andme\n",
       "syn_23andme  Sheng-Yong Niu      Sheng-Yong Niu      M      23andme\n",
       "HGDP01201          Mandenka                 AFR      F         HGDP\n",
       "HGDP00479             Biaka                 AFR      M         HGDP\n",
       "HGDP01408        BantuKenya                 AFR      M         HGDP\n",
       "...                     ...                 ...    ...          ...\n",
       "NA21137                 GIH  CENTRAL_SOUTH_ASIA      F  1000 genome\n",
       "NA21141                 GIH  CENTRAL_SOUTH_ASIA      F  1000 genome\n",
       "NA21142                 GIH  CENTRAL_SOUTH_ASIA      F  1000 genome\n",
       "NA21143                 GIH  CENTRAL_SOUTH_ASIA      F  1000 genome\n",
       "NA21144                 GIH  CENTRAL_SOUTH_ASIA      F  1000 genome\n",
       "\n",
       "[3435 rows x 4 columns]"
      ]
     },
     "execution_count": 7,
     "metadata": {},
     "output_type": "execute_result"
    }
   ],
   "source": [
    "adata.obs"
   ]
  },
  {
   "cell_type": "code",
   "execution_count": 62,
   "metadata": {},
   "outputs": [
    {
     "data": {
      "text/plain": [
       "AxisArrays with keys: X_draw_graph_fr, X_pca, X_tsne, X_umap"
      ]
     },
     "execution_count": 62,
     "metadata": {},
     "output_type": "execute_result"
    }
   ],
   "source": [
    "adata.obsm"
   ]
  },
  {
   "cell_type": "code",
   "execution_count": 42,
   "metadata": {},
   "outputs": [],
   "source": [
    "from scipy.spatial.distance import cdist\n",
    "import numpy as np\n",
    "def intra_cluster_distance(adata, group, group_col = 'super_pop', key = 'X_draw_graph_fr'):\n",
    "    \n",
    "    group_ids = adata.obs.loc[adata.obs[group_col] == group].index\n",
    "    group_ids = np.array([list(adata.obs.index).index(g) for g in group_ids])\n",
    "    #print(group_ids)\n",
    "    group_pos = adata.obsm[key][group_ids]\n",
    "    \n",
    "    d_matrix = cdist(group_pos, group_pos, 'euclidean')\n",
    "    d_upper = np.triu(d_matrix).reshape(-1)\n",
    "    d_upper = d_upper[np.where(d_upper != 0)]\n",
    "    return(np.mean(d_upper))\n",
    "def inter_cluster_distance(adata, group1,group2, group_col = 'super_pop', key = 'X_draw_graph_fr'):\n",
    "    \n",
    "    # group1\n",
    "    group1_ids = adata.obs.loc[adata.obs[group_col] == group1].index\n",
    "    group1_ids = np.array([list(adata.obs.index).index(g) for g in group1_ids])\n",
    "    #print(group_ids)\n",
    "    group1_pos = adata.obsm[key][group1_ids]\n",
    "    \n",
    "    group2_ids = adata.obs.loc[adata.obs[group_col] == group2].index\n",
    "    group2_ids = np.array([list(adata.obs.index).index(g) for g in group2_ids])\n",
    "    #print(group_ids)\n",
    "    group2_pos = adata.obsm[key][group2_ids]\n",
    "    \n",
    "    d_matrix = cdist(group1_pos, group2_pos, 'euclidean')\n",
    "    d_upper = np.triu(d_matrix).reshape(-1)\n",
    "    d_upper = d_upper[np.where(d_upper != 0)]\n",
    "    return(np.mean(d_upper))"
   ]
  },
  {
   "cell_type": "code",
   "execution_count": 45,
   "metadata": {},
   "outputs": [],
   "source": [
    "d = intra_cluster_distance(adata, 'EAS')"
   ]
  },
  {
   "cell_type": "code",
   "execution_count": 43,
   "metadata": {},
   "outputs": [],
   "source": [
    "d = inter_cluster_distance(adata, 'EAS', 'AFR')"
   ]
  },
  {
   "cell_type": "code",
   "execution_count": 50,
   "metadata": {},
   "outputs": [
    {
     "data": {
      "text/plain": [
       "[Shang-Fu Chen, Sheng-Yong Niu, AFR, EAS, EUR, CENTRAL_SOUTH_ASIA, AMR, OCEANIA, MIDDLE_EAST]\n",
       "Categories (9, object): [Shang-Fu Chen, Sheng-Yong Niu, AFR, EAS, ..., CENTRAL_SOUTH_ASIA, AMR, OCEANIA, MIDDLE_EAST]"
      ]
     },
     "execution_count": 50,
     "metadata": {},
     "output_type": "execute_result"
    }
   ],
   "source": [
    "from itertools import combinations \n",
    "sp = ['AFR','EAS', 'EUR','CENTRAL_SOUTH_ASIA', 'AMR', 'OCEANIA', 'MIDDLE_EAST']\n",
    "intra_sp = [intra_cluster_distance(adata, p) for p in sp]\n",
    "inter_sp = [inter_cluster_distance(adata, p1, p2) for (p1, p2) in combinations(sp,2)]\n"
   ]
  },
  {
   "cell_type": "code",
   "execution_count": 55,
   "metadata": {},
   "outputs": [
    {
     "data": {
      "text/plain": [
       "[12.83717979226553,\n",
       " 14.547050592640101,\n",
       " 11.656717273166969,\n",
       " 10.31937769008575,\n",
       " 14.603157005290042,\n",
       " 12.973919445974454,\n",
       " 21.621583710138776,\n",
       " 14.743647883629055,\n",
       " 14.438539413398894,\n",
       " 15.387387547327386,\n",
       " 15.591907125627717,\n",
       " 20.1234649222316,\n",
       " 11.146635438182576,\n",
       " 18.416602262634626,\n",
       " 12.240779898471231,\n",
       " 9.077619984834023,\n",
       " 13.926540163927633,\n",
       " 11.835841605585482,\n",
       " 18.83811399432077,\n",
       " 14.016859130488703,\n",
       " 15.345931239685957]"
      ]
     },
     "execution_count": 55,
     "metadata": {},
     "output_type": "execute_result"
    }
   ],
   "source": []
  },
  {
   "cell_type": "code",
   "execution_count": 68,
   "metadata": {},
   "outputs": [
    {
     "data": {
      "text/plain": [
       "Text(0.5, 0.98, 'Superpopulation')"
      ]
     },
     "execution_count": 68,
     "metadata": {},
     "output_type": "execute_result"
    },
    {
     "data": {
      "image/png": "[encoded data removed]",
      "text/plain": [
       "<Figure size 432x288 with 4 Axes>"
      ]
     },
     "metadata": {
      "needs_background": "light"
     },
     "output_type": "display_data"
    }
   ],
   "source": [
    "import matplotlib.pyplot as plt\n",
    "import seaborn as sns\n",
    "f, ax = plt.subplots(1,4, sharey = True)\n",
    "\n",
    "i = 0\n",
    "for embed in ['X_draw_graph_fr', 'X_pca', 'X_tsne', 'X_umap']:\n",
    "\n",
    "    sp = ['AFR','EAS', 'EUR','CENTRAL_SOUTH_ASIA', 'AMR', 'OCEANIA', 'MIDDLE_EAST']\n",
    "    intra_sp = [intra_cluster_distance(adata, p, key = embed) for p in sp]\n",
    "    inter_sp = [inter_cluster_distance(adata, p1, p2, key = embed) for (p1, p2) in combinations(sp,2)]\n",
    "\n",
    "    ax[i].boxplot([intra_sp, inter_sp])\n",
    "    ax[i].set_title(embed)\n",
    "    ax[i].set_xticks(np.arange(1,3))\n",
    "    ax[i].set_xticklabels(['intracluster', 'intercluster'], rotation = 90)\n",
    "    ax[i].set_ylabel('distance')\n",
    "    \n",
    "    i+=1\n",
    "plt.suptitle('Superpopulation')"
   ]
  },
  {
   "cell_type": "code",
   "execution_count": 71,
   "metadata": {},
   "outputs": [
    {
     "data": {
      "text/plain": [
       "[Mandenka, Biaka, BantuKenya, Mbuti, YRI, ..., Pathan, Bougainville, Tujia, Cambodian, Hazara]\n",
       "Length: 18\n",
       "Categories (72, object): [Shang-Fu Chen, Sheng-Yong Niu, Mandenka, Biaka, ..., ITU, ASW, MXL, GIH]"
      ]
     },
     "execution_count": 71,
     "metadata": {},
     "output_type": "execute_result"
    }
   ],
   "source": [
    "adata.obs['pop'].unique()[2:20]"
   ]
  },
  {
   "cell_type": "code",
   "execution_count": 72,
   "metadata": {},
   "outputs": [
    {
     "data": {
      "text/plain": [
       "Text(0.5, 0.98, 'Population')"
      ]
     },
     "execution_count": 72,
     "metadata": {},
     "output_type": "execute_result"
    },
    {
     "data": {
      "image/png": "[encoded data removed]",
      "text/plain": [
       "<Figure size 432x288 with 4 Axes>"
      ]
     },
     "metadata": {
      "needs_background": "light"
     },
     "output_type": "display_data"
    }
   ],
   "source": [
    "import matplotlib.pyplot as plt\n",
    "import seaborn as sns\n",
    "f, ax = plt.subplots(1,4, sharey = True)\n",
    "\n",
    "i = 0\n",
    "for embed in ['X_draw_graph_fr', 'X_pca', 'X_tsne', 'X_umap']:\n",
    "\n",
    "    sp = adata.obs['pop'].unique()[2:20]\n",
    "    intra_sp = [intra_cluster_distance(adata, p, key = embed, group_col = 'pop') for p in sp]\n",
    "    inter_sp = [inter_cluster_distance(adata, p1, p2, key = embed, group_col = 'pop') for (p1, p2) in combinations(sp,2)]\n",
    "\n",
    "    ax[i].boxplot([intra_sp, inter_sp])\n",
    "    ax[i].set_title(embed)\n",
    "    ax[i].set_xticks(np.arange(1,3))\n",
    "    ax[i].set_xticklabels(['intracluster', 'intercluster'], rotation = 90)\n",
    "    ax[i].set_ylabel('distance')\n",
    "    \n",
    "    i+=1\n",
    "plt.suptitle('Population')"
   ]
  },
  {
   "cell_type": "code",
   "execution_count": null,
   "metadata": {},
   "outputs": [],
   "source": []
  }
 ],
 "metadata": {
  "kernelspec": {
   "display_name": "popgen",
   "language": "python",
   "name": "popgen"
  },
  "language_info": {
   "codemirror_mode": {
    "name": "ipython",
    "version": 3
   },
   "file_extension": ".py",
   "mimetype": "text/x-python",
   "name": "python",
   "nbconvert_exporter": "python",
   "pygments_lexer": "ipython3",
   "version": "3.7.6"
  }
 },
 "nbformat": 4,
 "nbformat_minor": 4
}
